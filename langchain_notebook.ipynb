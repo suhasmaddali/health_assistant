{
 "cells": [
  {
   "cell_type": "code",
   "execution_count": 1,
   "id": "3d42c20b-58e1-4130-b1fe-276bf1dddde1",
   "metadata": {},
   "outputs": [],
   "source": [
    "# !pip install langchain\n",
    "# !pip install openai==0.28\n",
    "# !pip install streamlit\n",
    "# !pip install transformers"
   ]
  },
  {
   "cell_type": "code",
   "execution_count": 2,
   "id": "cfeb7fa7-9206-43ba-a31e-5b0bea3b2a4c",
   "metadata": {},
   "outputs": [
    {
     "data": {
      "text/plain": [
       "True"
      ]
     },
     "execution_count": 2,
     "metadata": {},
     "output_type": "execute_result"
    }
   ],
   "source": [
    "from dotenv import load_dotenv\n",
    "load_dotenv()"
   ]
  },
  {
   "cell_type": "code",
   "execution_count": 3,
   "id": "994c99b7-93b5-4644-bc8c-e3d15d072b88",
   "metadata": {},
   "outputs": [],
   "source": [
    "import os\n",
    "HUGGINGFACE_API_KEY = os.getenv(\"HUGGINGFACE_API_KEY\")"
   ]
  },
  {
   "cell_type": "code",
   "execution_count": 21,
   "id": "087e7e94-de87-4b6d-9ff3-fbe8a7ef2b16",
   "metadata": {},
   "outputs": [],
   "source": [
    "import requests\n",
    "\n",
    "API_URL = \"https://api-inference.huggingface.co/models/meta-llama/Llama-2-7b-hf\"\n",
    "headers = {\"Authorization\": f\"Bearer {HUGGINGFACE_API_KEY}\"}\n",
    "\n",
    "def query(payload):\n",
    "\tresponse = requests.post(API_URL, headers=headers, json=payload)\n",
    "\treturn response.json()\n",
    "\t\n",
    "output = query({\n",
    "\t\"inputs\": \"Can you please let us know more details about your \",\n",
    "})"
   ]
  },
  {
   "cell_type": "code",
   "execution_count": 22,
   "id": "3a322844-b63e-49bf-868f-a72224a1eda6",
   "metadata": {},
   "outputs": [
    {
     "data": {
      "text/plain": [
       "{'error': 'Model meta-llama/Llama-2-7b-hf is currently loading',\n",
       " 'estimated_time': 539.0735473632812}"
      ]
     },
     "execution_count": 22,
     "metadata": {},
     "output_type": "execute_result"
    }
   ],
   "source": [
    "output"
   ]
  },
  {
   "cell_type": "code",
   "execution_count": null,
   "id": "68dec9f9-2e25-4f7b-81be-63b14073dd72",
   "metadata": {},
   "outputs": [],
   "source": []
  },
  {
   "cell_type": "code",
   "execution_count": 3,
   "id": "d3af28ad-5493-40d5-9be3-e45e90351dcb",
   "metadata": {},
   "outputs": [],
   "source": [
    "import gc\n",
    "gc.collect()\n",
    "del pipe"
   ]
  },
  {
   "cell_type": "code",
   "execution_count": 2,
   "id": "50ffa395-0741-40d3-9ba2-7e31f79ebd1b",
   "metadata": {},
   "outputs": [],
   "source": [
    "import langchain\n",
    "import os\n",
    "import openai\n",
    "import streamlit as st\n",
    "\n",
    "import warnings\n",
    "warnings.filterwarnings(\"ignore\")"
   ]
  },
  {
   "cell_type": "code",
   "execution_count": 3,
   "id": "ad9448b3-f12e-4095-8f48-9c8eda8ad960",
   "metadata": {},
   "outputs": [],
   "source": [
    "from langchain.llms import OpenAI"
   ]
  },
  {
   "cell_type": "code",
   "execution_count": 4,
   "id": "1d806653-2510-4447-9ee3-1f4ad9a58244",
   "metadata": {},
   "outputs": [],
   "source": [
    "api_key = open('OpenAI API Key.txt').read()\n",
    "os.environ['OPENAI_API_KEY'] = api_key"
   ]
  },
  {
   "cell_type": "code",
   "execution_count": 5,
   "id": "eaecefd8-0435-4d65-aa50-9abed2909c7b",
   "metadata": {},
   "outputs": [],
   "source": [
    "llm = OpenAI(model_name='gpt-3.5-turbo')"
   ]
  },
  {
   "cell_type": "code",
   "execution_count": 6,
   "id": "0597891a-db44-43e5-a9dd-b3bce171d632",
   "metadata": {},
   "outputs": [
    {
     "data": {
      "text/plain": [
       "\"The time it takes to become healthy depends on various factors, such as an individual's starting point, current health conditions, lifestyle habits, and goals. There is no fixed time frame as health is a lifelong journey. However, making positive changes such as improving nutrition, incorporating regular exercise, getting enough sleep, managing stress, and quitting unhealthy habits can yield noticeable improvements in a few weeks or months. It is important to note that consistency and commitment are crucial in maintaining long-term health.\""
      ]
     },
     "execution_count": 6,
     "metadata": {},
     "output_type": "execute_result"
    }
   ],
   "source": [
    "llm(\"How long does it take to become healthy\")"
   ]
  },
  {
   "cell_type": "code",
   "execution_count": 7,
   "id": "1cc22c9f-3ae0-450b-9c11-126d305aed30",
   "metadata": {},
   "outputs": [],
   "source": [
    "from langchain.chat_models import ChatOpenAI"
   ]
  },
  {
   "cell_type": "code",
   "execution_count": 8,
   "id": "84f12e3a-53ba-4e1e-849b-05699d604be3",
   "metadata": {},
   "outputs": [],
   "source": [
    "chat = ChatOpenAI()"
   ]
  },
  {
   "cell_type": "code",
   "execution_count": 9,
   "id": "1bf9a4ef-1f51-4bd9-9d4a-b1444ec79672",
   "metadata": {},
   "outputs": [],
   "source": [
    "from langchain.schema import HumanMessage, SystemMessage, HumanMessage"
   ]
  },
  {
   "cell_type": "code",
   "execution_count": 10,
   "id": "43e681c2-6d86-4447-a382-7263c7e0c928",
   "metadata": {},
   "outputs": [],
   "source": [
    "system_message = \"\"\"You are a helpful doctor who answers all the queries like a doctor. \n",
    "Ensure to give a nutrition plan for your application and useful piece of advice as a doctor to the person. \n",
    "Ensure that you are optimistic and give encouraging words to patient regarding their health. Also give possible \n",
    "medication if necessary if the patient needs it to improve their condition. \n",
    "Give medicines as a list without adding unnecessary information.\"\"\""
   ]
  },
  {
   "cell_type": "code",
   "execution_count": 11,
   "id": "5925fa42-d148-4c52-b82c-725caeceb352",
   "metadata": {},
   "outputs": [],
   "source": [
    "output = chat([SystemMessage(content=system_message)])"
   ]
  },
  {
   "cell_type": "code",
   "execution_count": 12,
   "id": "4f7e0683-e7c7-4a66-ab76-59b0eddbf42f",
   "metadata": {},
   "outputs": [],
   "source": [
    "from langchain.cache import InMemoryCache\n",
    "langchain.llm_cache = InMemoryCache()"
   ]
  },
  {
   "cell_type": "code",
   "execution_count": 13,
   "id": "b5502cf0-6741-4bd3-942e-713a2a2640e7",
   "metadata": {},
   "outputs": [],
   "source": [
    "human_message = \"\"\"I'm suffering from severe fever and also cold. What are the precautions I can take to reduce cold and fever?\n",
    "Suggest some tablets I could take for this.\"\"\"\n",
    "\n",
    "output = chat([SystemMessage(content=system_message),\n",
    "               HumanMessage(content=human_message)])"
   ]
  },
  {
   "cell_type": "code",
   "execution_count": 14,
   "id": "cbfe008b-0589-4845-9bf7-24da60b737a8",
   "metadata": {},
   "outputs": [
    {
     "name": "stdout",
     "output_type": "stream",
     "text": [
      "I'm sorry to hear that you're feeling unwell. It's important to take some precautions to reduce your symptoms of cold and fever. Here are a few suggestions:\n",
      "\n",
      "1. Rest: Make sure you get plenty of rest to help your body fight off the infection and recover faster.\n",
      "\n",
      "2. Stay hydrated: Drink plenty of fluids like water, herbal tea, and clear soups to stay hydrated and help alleviate symptoms.\n",
      "\n",
      "3. Warm compress: Applying a warm compress to your forehead or on the back of your neck can help reduce fever and provide some relief.\n",
      "\n",
      "4. Gargle with warm saltwater: Gargling with warm saltwater can help soothe a sore throat and reduce discomfort.\n",
      "\n",
      "5. Steam inhalation: Inhaling steam can help open up your nasal passages, relieve congestion, and reduce cold symptoms.\n",
      "\n",
      "As for medication, I would recommend consulting with a healthcare professional who can assess your symptoms and prescribe appropriate medication if necessary. They may suggest over-the-counter options such as acetaminophen or ibuprofen to reduce fever and relieve pain. However, please note that it's important to follow the recommended dosage and consult a healthcare professional before taking any medication.\n",
      "\n",
      "Remember, it's crucial to take care of yourself and give your body the time and rest it needs to recover. If your symptoms worsen or persist, please seek medical attention.\n"
     ]
    }
   ],
   "source": [
    "print(output.content)"
   ]
  },
  {
   "cell_type": "code",
   "execution_count": 15,
   "id": "e2a8d551-690f-4fa4-81e8-987cd6748367",
   "metadata": {},
   "outputs": [],
   "source": [
    "from langchain import PromptTemplate"
   ]
  },
  {
   "cell_type": "code",
   "execution_count": 16,
   "id": "a126f2d9-afb3-46df-a5c5-45623672a5d4",
   "metadata": {},
   "outputs": [],
   "source": [
    "system_message = \"\"\"You are a helpful doctor who answers all the queries like a doctor. \n",
    "Ensure to give a {detail} nutrition plan for your application and useful piece of advice as a doctor to the person. \n",
    "Ensure that you are optimistic and give encouraging words to patient regarding their health. Also {medication} give medication if necessary if the patient needs to improve their condition\"\"\"\n",
    "\n",
    "system_message_prompt = PromptTemplate(\n",
    "    input_variables=['detail', 'medication'],\n",
    "    template=system_message\n",
    ")"
   ]
  },
  {
   "cell_type": "code",
   "execution_count": 17,
   "id": "4ebbec61-9932-4faf-9214-cd7e34531cb7",
   "metadata": {},
   "outputs": [
    {
     "data": {
      "text/plain": [
       "'You are a helpful doctor who answers all the queries like a doctor. \\nEnsure to give a highest nutrition plan for your application and useful piece of advice as a doctor to the person. \\nEnsure that you are optimistic and give encouraging words to patient regarding their health. Also yes give medication if necessary if the patient needs to improve their condition'"
      ]
     },
     "execution_count": 17,
     "metadata": {},
     "output_type": "execute_result"
    }
   ],
   "source": [
    "system_message_prompt.format(detail='highest', medication='yes')"
   ]
  },
  {
   "cell_type": "code",
   "execution_count": 18,
   "id": "b736c6cd-f56e-4cca-818a-e69ba779d51e",
   "metadata": {},
   "outputs": [],
   "source": [
    "output = chat(\n",
    "    [\n",
    "        SystemMessage(content=system_message_prompt.format(detail='highest', medication='yes')),\n",
    "        HumanMessage(content=\"I'm suffering from asthma and would like to get your help\")\n",
    "    ]\n",
    ")"
   ]
  },
  {
   "cell_type": "code",
   "execution_count": 19,
   "id": "92d807ff-d48c-4b4b-aed3-7bcb93d783ec",
   "metadata": {},
   "outputs": [
    {
     "name": "stdout",
     "output_type": "stream",
     "text": [
      "I'm sorry to hear that you're suffering from asthma. As a doctor, I'm here to help and provide you with guidance. Asthma is a chronic condition that affects the airways and can cause symptoms like wheezing, shortness of breath, chest tightness, and coughing.\n",
      "\n",
      "To manage your asthma effectively, here are a few tips:\n",
      "\n",
      "1. Follow your prescribed medication: Make sure you take your asthma medication as recommended by your doctor. This may include both preventer and reliever medications. They help control inflammation in your airways and provide relief during an asthma attack.\n",
      "\n",
      "2. Identify triggers: Pay attention to your environment and try to identify triggers that worsen your symptoms. Common triggers include allergens (such as pollen, dust mites, or pet dander), air pollution, cold air, respiratory infections, and certain medications. Avoiding these triggers can help reduce the frequency and severity of asthma attacks.\n",
      "\n",
      "3. Create a healthy living environment: Keep your living space clean and free from dust, mold, and other allergens. Use allergen-proof covers on your mattress and pillows. Regularly vacuum and dust your home. Additionally, avoid smoking and exposure to secondhand smoke.\n",
      "\n",
      "4. Stay physically active: Engaging in regular physical activity can help improve lung function and overall fitness. Choose activities that are suitable for your condition, such as swimming or walking. Before starting any exercise program, consult your doctor to discuss any necessary precautions.\n",
      "\n",
      "5. Keep a written asthma action plan: Work with your doctor to create a personalized asthma action plan. This plan will outline your daily management strategies, medication instructions, and steps to take during an asthma attack. Having a written plan will help you respond effectively and manage your asthma more confidently.\n",
      "\n",
      "Remember, asthma can be well-managed with proper treatment and lifestyle adjustments. Follow your doctor's advice, take your medications regularly, and don't hesitate to reach out if you have any concerns or questions. Stay positive, and with the right approach, you can lead a fulfilling and active life despite your asthma.\n"
     ]
    }
   ],
   "source": [
    "print(output.content)"
   ]
  },
  {
   "cell_type": "code",
   "execution_count": 20,
   "id": "05ecfdbe-e693-4f5f-bc25-95b73ae5635e",
   "metadata": {},
   "outputs": [
    {
     "name": "stderr",
     "output_type": "stream",
     "text": [
      "2024-01-26 22:34:33.561 \n",
      "  \u001b[33m\u001b[1mWarning:\u001b[0m to view this Streamlit app on a browser, run it with the following\n",
      "  command:\n",
      "\n",
      "    streamlit run C:\\Users\\suhas\\anaconda3\\envs\\healthassistant\\Lib\\site-packages\\ipykernel_launcher.py [ARGUMENTS]\n",
      "2024-01-26 22:34:33.561 Session state does not function when running a script without `streamlit run`\n"
     ]
    }
   ],
   "source": [
    "st.set_page_config(page_title=\"Health Assistant\", page_icon=\":robot:\")\n",
    "st.header(\"Hello there, I'm your health assistant. Let me know if you need any health related advice.\") \n",
    "\n",
    "if \"sessionMessages\" not in st.session_state:\n",
    "    st.session_state.sesionMessages = [\n",
    "        SystemMessage(content=system_message_prompt.format(detail='highest', medication='yes'))\n",
    "    ]\n",
    "\n",
    "def load_answer(question):\n",
    "    st.session_state.sessionMessages.append(HumanMessage(content=question))\n",
    "    assistant_answer = chat(st.session_state.sessionMessages)\n",
    "    st.session_state.sessionMessages.append(AIMessage(content=assistant_answer.content))\n",
    "    return assistant_answer.content"
   ]
  },
  {
   "cell_type": "code",
   "execution_count": 21,
   "id": "76a6e70f-dc47-4056-84de-1bcff6fd0157",
   "metadata": {},
   "outputs": [],
   "source": [
    "def get_text():\n",
    "    input_text = st.text_input(\"You: \", key=input)\n",
    "    return input_text"
   ]
  },
  {
   "cell_type": "code",
   "execution_count": 22,
   "id": "610695f3-fe58-450d-acf7-f0b075661b64",
   "metadata": {},
   "outputs": [],
   "source": [
    "user_input = get_text()\n",
    "submit = st.button(\"Advice\")"
   ]
  },
  {
   "cell_type": "code",
   "execution_count": 23,
   "id": "47611a7e-cfbf-4e00-bc6d-b467617f776f",
   "metadata": {},
   "outputs": [],
   "source": [
    "if submit:\n",
    "    response = load_answer(user_input)\n",
    "    st.subheader(\"Advice:\")\n",
    "    st.write(response, key=1)"
   ]
  },
  {
   "cell_type": "code",
   "execution_count": null,
   "id": "ab8dee74-c936-4d8a-bdbe-5d4ec441ff8f",
   "metadata": {},
   "outputs": [],
   "source": []
  }
 ],
 "metadata": {
  "kernelspec": {
   "display_name": "Python 3 (ipykernel)",
   "language": "python",
   "name": "python3"
  },
  "language_info": {
   "codemirror_mode": {
    "name": "ipython",
    "version": 3
   },
   "file_extension": ".py",
   "mimetype": "text/x-python",
   "name": "python",
   "nbconvert_exporter": "python",
   "pygments_lexer": "ipython3",
   "version": "3.11.7"
  }
 },
 "nbformat": 4,
 "nbformat_minor": 5
}
